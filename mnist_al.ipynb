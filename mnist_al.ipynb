{
 "metadata": {
  "language_info": {
   "codemirror_mode": {
    "name": "ipython",
    "version": 3
   },
   "file_extension": ".py",
   "mimetype": "text/x-python",
   "name": "python",
   "nbconvert_exporter": "python",
   "pygments_lexer": "ipython3",
   "version": "3.6.9-final"
  },
  "orig_nbformat": 2,
  "kernelspec": {
   "name": "python36964bitmodalenvvenv9f2ea87353fe422eba5b5b192efaa406",
   "display_name": "Python 3.6.9 64-bit ('modal-env': venv)"
  }
 },
 "nbformat": 4,
 "nbformat_minor": 2,
 "cells": [
  {
   "cell_type": "code",
   "execution_count": 1,
   "metadata": {
    "tags": []
   },
   "outputs": [],
   "source": [
    "# python 3.6.9\n",
    "import numpy as np\n",
    "from tensorflow import keras\n",
    "from tensorflow.keras import layers\n",
    "import tensorflow as tf"
   ]
  },
  {
   "cell_type": "code",
   "execution_count": 2,
   "metadata": {},
   "outputs": [],
   "source": [
    "def create_model():\n",
    "    model = keras.Sequential(\n",
    "        [\n",
    "            keras.Input(shape=input_shape),\n",
    "            layers.Conv2D(32, kernel_size=(3, 3), activation=\"relu\"),\n",
    "            layers.MaxPooling2D(pool_size=(2, 2)),\n",
    "            layers.Conv2D(64, kernel_size=(3, 3), activation=\"relu\"),\n",
    "            layers.MaxPooling2D(pool_size=(2, 2)),\n",
    "            layers.Flatten(),\n",
    "            layers.Dropout(0.5),\n",
    "            layers.Dense(num_classes, activation=\"softmax\"),\n",
    "        ]\n",
    "    )\n",
    "    model.compile(\n",
    "        loss=\"categorical_crossentropy\",\n",
    "        optimizer=\"adam\",\n",
    "        metrics=[\"accuracy\"]\n",
    "    )\n",
    "    return model"
   ]
  },
  {
   "cell_type": "code",
   "execution_count": 3,
   "metadata": {},
   "outputs": [],
   "source": [
    "def get_most_uncertain(model, x_arr, y_arr, k):\n",
    "    predictions = model.predict(x_arr, batch_size=128)\n",
    "    probs = tf.nn.softmax(predictions).numpy()\n",
    "    diffs = np.array([])\n",
    "    for p in probs:\n",
    "        p.sort()\n",
    "        diffs = np.append(diffs, abs(p[-1] - p[-2]))\n",
    "\n",
    "    smallest_margins_idx = diffs.argsort()[:k]\n",
    "    return smallest_margins_idx"
   ]
  },
  {
   "cell_type": "code",
   "execution_count": 19,
   "metadata": {},
   "outputs": [],
   "source": [
    "# model / data parameters\n",
    "num_classes = 10\n",
    "input_shape = (28, 28, 1)\n",
    "batch_size = 128\n",
    "epochs = 5\n",
    "n = 5000                                # number of trainnig samples (max 60000)\n",
    "init_n = 100                            # number of samples used to initial training\n",
    "n_queries = 10                           # number of al iterations\n",
    "n_oracle = 50                           # number of samples provided by the oracle (per iteration)\n",
    "n_pl = init_n + n_queries * n_oracle    # nunber of samples used to passive learnig\n",
    "epochs_pl = 10"
   ]
  },
  {
   "cell_type": "code",
   "execution_count": 20,
   "metadata": {},
   "outputs": [],
   "source": [
    "# the data, split between train and test sets\n",
    "(X_TRAIN, Y_TRAIN), (X_TEST, Y_TEST) = keras.datasets.mnist.load_data()"
   ]
  },
  {
   "cell_type": "code",
   "execution_count": 21,
   "metadata": {
    "tags": []
   },
   "outputs": [
    {
     "output_type": "stream",
     "name": "stdout",
     "text": "x_train shape: (4900, 28, 28, 1)\n100 init samples\n4900 unlabelled samples\n"
    }
   ],
   "source": [
    "# data preprocessing\n",
    "x_train = X_TRAIN[:n]\n",
    "x_init, x_train = np.split(x_train, (init_n,))\n",
    "y_train = Y_TRAIN[:n]\n",
    "y_init, y_train = np.split(y_train, (init_n,))\n",
    "\n",
    "# Scale images to the [0, 1] range\n",
    "x_init = x_init.astype(\"float32\") / 255.0\n",
    "x_train = x_train.astype(\"float32\") / 255.0\n",
    "x_test = X_TEST.astype(\"float32\") / 255.0\n",
    "# Make sure images have shape (28, 28, 1)\n",
    "x_init = np.expand_dims(x_init, -1)\n",
    "x_train = np.expand_dims(x_train, -1)\n",
    "x_test = np.expand_dims(x_test, -1)\n",
    "\n",
    "# convert class vectors to binary class matrices\n",
    "y_init = keras.utils.to_categorical(y_init, num_classes)\n",
    "y_train = keras.utils.to_categorical(y_train, num_classes)\n",
    "y_test = keras.utils.to_categorical(Y_TEST, num_classes)\n",
    "\n",
    "print(\"x_train shape:\", x_train.shape)\n",
    "print(x_init.shape[0], \"init samples\")\n",
    "print(x_train.shape[0], \"unlabelled samples\")"
   ]
  },
  {
   "cell_type": "code",
   "execution_count": 22,
   "metadata": {},
   "outputs": [],
   "source": [
    "model = create_model()"
   ]
  },
  {
   "cell_type": "code",
   "execution_count": 23,
   "metadata": {
    "tags": []
   },
   "outputs": [
    {
     "output_type": "stream",
     "name": "stdout",
     "text": "Epoch 1/5\n1/1 [==============================] - 0s 2ms/step - loss: 2.3046 - accuracy: 0.0700\nEpoch 2/5\n1/1 [==============================] - 0s 3ms/step - loss: 2.2727 - accuracy: 0.1500\nEpoch 3/5\n1/1 [==============================] - 0s 1ms/step - loss: 2.2297 - accuracy: 0.2700\nEpoch 4/5\n1/1 [==============================] - 0s 1ms/step - loss: 2.1988 - accuracy: 0.2600\nEpoch 5/5\n1/1 [==============================] - 0s 1ms/step - loss: 2.1842 - accuracy: 0.2200\n"
    }
   ],
   "source": [
    "# initial training\n",
    "if init_n:\n",
    "    model.fit(x_init, y_init, batch_size=batch_size, epochs=epochs)"
   ]
  },
  {
   "cell_type": "code",
   "execution_count": 24,
   "metadata": {
    "tags": []
   },
   "outputs": [
    {
     "output_type": "stream",
     "name": "stdout",
     "text": "154/154 [==============================] - 2s 15ms/step - loss: 2.2129 - accuracy: 0.1982\nNumber of samples used to trainig: 100\n0. Test loss: 2.212908983230591\nTest accuracy: 0.19816327095031738\nEpoch 1/5\n2/2 [==============================] - 0s 18ms/step - loss: 2.1333 - accuracy: 0.2800\nEpoch 2/5\n2/2 [==============================] - 0s 16ms/step - loss: 2.0561 - accuracy: 0.4533\nEpoch 3/5\n2/2 [==============================] - 0s 8ms/step - loss: 1.9929 - accuracy: 0.4533\nEpoch 4/5\n2/2 [==============================] - 0s 8ms/step - loss: 1.9133 - accuracy: 0.5000\nEpoch 5/5\n2/2 [==============================] - 0s 12ms/step - loss: 1.8285 - accuracy: 0.5400\n152/152 [==============================] - 1s 6ms/step - loss: 2.0465 - accuracy: 0.4501\nNumber of samples used to trainig: 150\n1. Test loss: 2.0465331077575684\nTest accuracy: 0.45010310411453247\nEpoch 1/5\n2/2 [==============================] - 0s 38ms/step - loss: 1.8551 - accuracy: 0.4600\nEpoch 2/5\n2/2 [==============================] - 0s 34ms/step - loss: 1.7434 - accuracy: 0.5200\nEpoch 3/5\n2/2 [==============================] - 0s 46ms/step - loss: 1.6585 - accuracy: 0.5100\nEpoch 4/5\n2/2 [==============================] - 0s 43ms/step - loss: 1.5013 - accuracy: 0.5800\nEpoch 5/5\n2/2 [==============================] - 0s 44ms/step - loss: 1.3330 - accuracy: 0.6900\n150/150 [==============================] - 2s 15ms/step - loss: 1.4411 - accuracy: 0.6373\nNumber of samples used to trainig: 200\n2. Test loss: 1.4410851001739502\nTest accuracy: 0.637291669845581\nEpoch 1/5\n2/2 [==============================] - 0s 63ms/step - loss: 1.4474 - accuracy: 0.5560\nEpoch 2/5\n2/2 [==============================] - 0s 71ms/step - loss: 1.3371 - accuracy: 0.6120\nEpoch 3/5\n2/2 [==============================] - 0s 52ms/step - loss: 1.1990 - accuracy: 0.6760\nEpoch 4/5\n2/2 [==============================] - 0s 56ms/step - loss: 1.1469 - accuracy: 0.6840\nEpoch 5/5\n2/2 [==============================] - 0s 51ms/step - loss: 1.0313 - accuracy: 0.6880\n149/149 [==============================] - 2s 15ms/step - loss: 1.0049 - accuracy: 0.7236\nNumber of samples used to trainig: 250\n3. Test loss: 1.0048842430114746\nTest accuracy: 0.723578929901123\nEpoch 1/5\n3/3 [==============================] - 0s 27ms/step - loss: 1.1350 - accuracy: 0.6367\nEpoch 2/5\n3/3 [==============================] - 0s 28ms/step - loss: 0.9697 - accuracy: 0.7267\nEpoch 3/5\n3/3 [==============================] - 0s 27ms/step - loss: 0.8409 - accuracy: 0.7533\nEpoch 4/5\n3/3 [==============================] - 0s 54ms/step - loss: 0.8293 - accuracy: 0.7200\nEpoch 5/5\n3/3 [==============================] - 0s 80ms/step - loss: 0.7438 - accuracy: 0.7467\n147/147 [==============================] - 2s 15ms/step - loss: 0.6564 - accuracy: 0.7998\nNumber of samples used to trainig: 300\n4. Test loss: 0.6563941240310669\nTest accuracy: 0.7997872233390808\nEpoch 1/5\n3/3 [==============================] - 0s 38ms/step - loss: 0.8865 - accuracy: 0.7171\nEpoch 2/5\n3/3 [==============================] - 0s 43ms/step - loss: 0.7723 - accuracy: 0.7600\nEpoch 3/5\n3/3 [==============================] - 0s 49ms/step - loss: 0.6960 - accuracy: 0.7914\nEpoch 4/5\n3/3 [==============================] - 0s 81ms/step - loss: 0.6810 - accuracy: 0.7714\nEpoch 5/5\n3/3 [==============================] - 0s 86ms/step - loss: 0.6440 - accuracy: 0.8000\n146/146 [==============================] - 3s 17ms/step - loss: 0.4601 - accuracy: 0.8624\nNumber of samples used to trainig: 350\n5. Test loss: 0.46009698510169983\nTest accuracy: 0.8623656034469604\nEpoch 1/5\n4/4 [==============================] - 0s 105ms/step - loss: 0.6943 - accuracy: 0.7750\nEpoch 2/5\n4/4 [==============================] - 0s 79ms/step - loss: 0.6175 - accuracy: 0.8025\nEpoch 3/5\n4/4 [==============================] - 0s 93ms/step - loss: 0.6192 - accuracy: 0.7875\nEpoch 4/5\n4/4 [==============================] - 0s 83ms/step - loss: 0.5638 - accuracy: 0.8150\nEpoch 5/5\n4/4 [==============================] - 0s 92ms/step - loss: 0.5387 - accuracy: 0.8100\n144/144 [==============================] - 2s 11ms/step - loss: 0.3227 - accuracy: 0.9100\nNumber of samples used to trainig: 400\n6. Test loss: 0.32268762588500977\nTest accuracy: 0.9100000262260437\nEpoch 1/5\n4/4 [==============================] - 0s 80ms/step - loss: 0.5869 - accuracy: 0.7933\nEpoch 2/5\n4/4 [==============================] - 0s 92ms/step - loss: 0.5442 - accuracy: 0.7978\nEpoch 3/5\n4/4 [==============================] - 0s 92ms/step - loss: 0.5217 - accuracy: 0.8178\nEpoch 4/5\n4/4 [==============================] - 0s 89ms/step - loss: 0.5096 - accuracy: 0.8267\nEpoch 5/5\n4/4 [==============================] - 0s 63ms/step - loss: 0.4938 - accuracy: 0.8444\n143/143 [==============================] - 1s 7ms/step - loss: 0.2462 - accuracy: 0.9334\nNumber of samples used to trainig: 450\n7. Test loss: 0.24615290760993958\nTest accuracy: 0.9334065914154053\nEpoch 1/5\n4/4 [==============================] - 0s 40ms/step - loss: 0.5299 - accuracy: 0.8260\nEpoch 2/5\n4/4 [==============================] - 0s 38ms/step - loss: 0.5219 - accuracy: 0.8240\nEpoch 3/5\n4/4 [==============================] - 0s 83ms/step - loss: 0.4872 - accuracy: 0.8400\nEpoch 4/5\n4/4 [==============================] - 0s 100ms/step - loss: 0.4529 - accuracy: 0.8360\nEpoch 5/5\n4/4 [==============================] - 0s 106ms/step - loss: 0.4455 - accuracy: 0.8480\n141/141 [==============================] - 3s 22ms/step - loss: 0.1998 - accuracy: 0.9498\nNumber of samples used to trainig: 500\n8. Test loss: 0.19977453351020813\nTest accuracy: 0.9497777819633484\nEpoch 1/5\n5/5 [==============================] - 1s 107ms/step - loss: 0.4719 - accuracy: 0.8509\nEpoch 2/5\n5/5 [==============================] - 1s 109ms/step - loss: 0.4675 - accuracy: 0.8418\nEpoch 3/5\n5/5 [==============================] - 0s 62ms/step - loss: 0.4231 - accuracy: 0.8509\nEpoch 4/5\n5/5 [==============================] - 0s 47ms/step - loss: 0.4235 - accuracy: 0.8564\nEpoch 5/5\n5/5 [==============================] - 0s 46ms/step - loss: 0.3966 - accuracy: 0.8673\n140/140 [==============================] - 2s 13ms/step - loss: 0.1637 - accuracy: 0.9582\nNumber of samples used to trainig: 550\n9. Test loss: 0.16371768712997437\nTest accuracy: 0.9582022428512573\nEpoch 1/5\n5/5 [==============================] - 1s 106ms/step - loss: 0.4617 - accuracy: 0.8200\nEpoch 2/5\n5/5 [==============================] - 1s 104ms/step - loss: 0.4228 - accuracy: 0.8517\nEpoch 3/5\n5/5 [==============================] - 0s 69ms/step - loss: 0.4099 - accuracy: 0.8567\nEpoch 4/5\n5/5 [==============================] - 0s 70ms/step - loss: 0.4007 - accuracy: 0.8600\nEpoch 5/5\n5/5 [==============================] - 0s 96ms/step - loss: 0.3747 - accuracy: 0.8683\n"
    }
   ],
   "source": [
    "# active learning \n",
    "for k in range(n_queries):\n",
    "    score = model.evaluate(x_train, y_train)\n",
    "    print(f\"Number of samples used to trainig: {x_init.shape[0]}\")\n",
    "    print(f\"{k}. Test loss:\", score[0])\n",
    "    print(\"Test accuracy:\", score[1])\n",
    "    idxs = get_most_uncertain(model, x_train, y_train, n_oracle)\n",
    "    x_init = np.append(x_init, x_train[idxs], axis=0)\n",
    "    y_init = np.append(y_init, y_train[idxs], axis=0)\n",
    "    x_train = np.delete(x_train, idxs, axis=0)\n",
    "    y_train = np.delete(y_train, idxs, axis=0)\n",
    "\n",
    "    model.fit(x_init, y_init, batch_size=batch_size, epochs=epochs)"
   ]
  },
  {
   "cell_type": "code",
   "execution_count": 25,
   "metadata": {
    "tags": []
   },
   "outputs": [],
   "source": [
    "# lets use the same model and train it without AL \n",
    "model_pl = create_model()"
   ]
  },
  {
   "cell_type": "code",
   "execution_count": 26,
   "metadata": {
    "tags": []
   },
   "outputs": [
    {
     "output_type": "stream",
     "name": "stdout",
     "text": "x_train shape: (600, 28, 28, 1)\n600 training samples\n"
    }
   ],
   "source": [
    "# data preprocessing\n",
    "x_train = X_TRAIN[:n_pl]\n",
    "y_train = Y_TRAIN[:n_pl]\n",
    "\n",
    "# Scale images to the [0, 1] range\n",
    "x_train = x_train.astype(\"float32\") / 255.0\n",
    "# Make sure images have shape (28, 28, 1)\n",
    "x_train = np.expand_dims(x_train, -1)\n",
    "\n",
    "# convert class vectors to binary class matrices\n",
    "y_train = keras.utils.to_categorical(y_train, num_classes)\n",
    "\n",
    "print(\"x_train shape:\", x_train.shape)\n",
    "print(x_train.shape[0], \"training samples\")"
   ]
  },
  {
   "cell_type": "code",
   "execution_count": 27,
   "metadata": {
    "tags": []
   },
   "outputs": [
    {
     "output_type": "stream",
     "name": "stdout",
     "text": "Epoch 1/10\n5/5 [==============================] - 0s 49ms/step - loss: 2.2710 - accuracy: 0.1683\nEpoch 2/10\n5/5 [==============================] - 0s 53ms/step - loss: 2.1237 - accuracy: 0.3750\nEpoch 3/10\n5/5 [==============================] - 0s 48ms/step - loss: 1.9382 - accuracy: 0.4933\nEpoch 4/10\n5/5 [==============================] - 0s 49ms/step - loss: 1.6773 - accuracy: 0.6183\nEpoch 5/10\n5/5 [==============================] - 0s 52ms/step - loss: 1.3655 - accuracy: 0.6733\nEpoch 6/10\n5/5 [==============================] - 0s 49ms/step - loss: 1.0358 - accuracy: 0.7600\nEpoch 7/10\n5/5 [==============================] - 0s 85ms/step - loss: 0.8561 - accuracy: 0.7400\nEpoch 8/10\n5/5 [==============================] - 1s 116ms/step - loss: 0.7001 - accuracy: 0.7900\nEpoch 9/10\n5/5 [==============================] - 0s 93ms/step - loss: 0.6066 - accuracy: 0.7967\nEpoch 10/10\n5/5 [==============================] - 1s 102ms/step - loss: 0.5431 - accuracy: 0.8367\n"
    },
    {
     "output_type": "execute_result",
     "data": {
      "text/plain": "<tensorflow.python.keras.callbacks.History at 0x7f00fc1ae860>"
     },
     "metadata": {},
     "execution_count": 27
    }
   ],
   "source": [
    "# train model\n",
    "model_pl.fit(x_train, y_train, batch_size=batch_size, epochs=epochs_pl)"
   ]
  },
  {
   "cell_type": "code",
   "execution_count": 28,
   "metadata": {
    "tags": []
   },
   "outputs": [
    {
     "output_type": "stream",
     "name": "stdout",
     "text": "Final evaluation\nNumber of samples used to train: 600\nNumber of test samples: 10000\n313/313 [==============================] - 3s 11ms/step - loss: 0.1638 - accuracy: 0.9542\nAL model\nTest loss: 0.16382446885108948\nTest accuracy: 0.954200029373169\n313/313 [==============================] - 3s 10ms/step - loss: 0.5297 - accuracy: 0.8345\n\nStandard CNN model\nTest loss: 0.5297361612319946\nTest accuracy: 0.8345000147819519\n"
    }
   ],
   "source": [
    "print(\"Final evaluation\")\n",
    "print(f\"Number of samples used to train: {x_init.shape[0]}\")\n",
    "print(f\"Number of test samples: {x_test.shape[0]}\")\n",
    "\n",
    "score = model.evaluate(x_test, y_test)\n",
    "print(\"AL model\")\n",
    "print(\"Test loss:\", score[0])\n",
    "print(\"Test accuracy:\", score[1])\n",
    "\n",
    "score = model_pl.evaluate(x_test, y_test)\n",
    "print(\"\\nStandard CNN model\")\n",
    "print(\"Test loss:\", score[0])\n",
    "print(\"Test accuracy:\", score[1])"
   ]
  },
  {
   "cell_type": "code",
   "execution_count": null,
   "metadata": {},
   "outputs": [],
   "source": []
  }
 ]
}